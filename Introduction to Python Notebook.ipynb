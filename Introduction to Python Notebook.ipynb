{
 "cells": [
  {
   "cell_type": "code",
   "execution_count": 3,
   "metadata": {},
   "outputs": [],
   "source": [
    "def SayHello():\n",
    "    print('Hello There!')"
   ]
  },
  {
   "cell_type": "code",
   "execution_count": 5,
   "metadata": {},
   "outputs": [
    {
     "name": "stdout",
     "output_type": "stream",
     "text": [
      "Hello There!\n"
     ]
    }
   ],
   "source": [
    "SayHello()"
   ]
  },
  {
   "cell_type": "code",
   "execution_count": 6,
   "metadata": {},
   "outputs": [],
   "source": [
    "def DoSum(Value1, Value2):\n",
    "    return Value1 + Value2"
   ]
  },
  {
   "cell_type": "code",
   "execution_count": 7,
   "metadata": {},
   "outputs": [
    {
     "data": {
      "text/plain": [
       "3"
      ]
     },
     "execution_count": 7,
     "metadata": {},
     "output_type": "execute_result"
    }
   ],
   "source": [
    "DoSum(1,2)"
   ]
  },
  {
   "cell_type": "code",
   "execution_count": 8,
   "metadata": {},
   "outputs": [],
   "source": [
    "def DisplaySum(Value1, Value2):\n",
    "    print(str(Value1) + ' + ' + str(Value2) + ' = ' + str((Value1 + Value2)))"
   ]
  },
  {
   "cell_type": "code",
   "execution_count": 10,
   "metadata": {},
   "outputs": [
    {
     "name": "stdout",
     "output_type": "stream",
     "text": [
      "2 + 3 = 5\n"
     ]
    }
   ],
   "source": [
    "DisplaySum(2,3)"
   ]
  },
  {
   "cell_type": "code",
   "execution_count": 11,
   "metadata": {},
   "outputs": [
    {
     "name": "stdout",
     "output_type": "stream",
     "text": [
      "2 + 3 = 5\n"
     ]
    }
   ],
   "source": [
    "DisplaySum(Value2 = 3, Value1 = 2)"
   ]
  },
  {
   "cell_type": "code",
   "execution_count": 16,
   "metadata": {},
   "outputs": [],
   "source": [
    "def SayHello(Greeting = \"No Value Supplied\"):\n",
    "    print(Greeting)"
   ]
  },
  {
   "cell_type": "code",
   "execution_count": 17,
   "metadata": {},
   "outputs": [
    {
     "name": "stdout",
     "output_type": "stream",
     "text": [
      "No Value Supplied\n"
     ]
    }
   ],
   "source": [
    "SayHello()"
   ]
  },
  {
   "cell_type": "code",
   "execution_count": 18,
   "metadata": {},
   "outputs": [
    {
     "name": "stdout",
     "output_type": "stream",
     "text": [
      "Howdy!\n"
     ]
    }
   ],
   "source": [
    "SayHello('Howdy!')"
   ]
  },
  {
   "cell_type": "code",
   "execution_count": 34,
   "metadata": {},
   "outputs": [],
   "source": [
    "def DisplayMulti(ArgCount = 0, *VarArgs):\n",
    "    print('You passed' + str(ArgCount) + 'arguments.')"
   ]
  },
  {
   "cell_type": "code",
   "execution_count": 35,
   "metadata": {},
   "outputs": [
    {
     "name": "stdout",
     "output_type": "stream",
     "text": [
      "You passed0arguments.\n"
     ]
    }
   ],
   "source": [
    "DisplayMulti()"
   ]
  },
  {
   "cell_type": "code",
   "execution_count": 36,
   "metadata": {},
   "outputs": [
    {
     "name": "stdout",
     "output_type": "stream",
     "text": [
      "You passed3arguments.\n"
     ]
    }
   ],
   "source": [
    "DisplayMulti(3, 'Hello', 1, True)"
   ]
  },
  {
   "cell_type": "code",
   "execution_count": 38,
   "metadata": {},
   "outputs": [],
   "source": [
    "def TestValue(Value):\n",
    "    if Value == 5:\n",
    "        print('Value equals 5!')\n",
    "    elif Value == 6:\n",
    "        print('Value equals 6!')\n",
    "    else:\n",
    "        print('Value is something else.')\n",
    "        print('It equals ' + str(Value))"
   ]
  },
  {
   "cell_type": "code",
   "execution_count": 39,
   "metadata": {},
   "outputs": [
    {
     "name": "stdout",
     "output_type": "stream",
     "text": [
      "Value is something else.\n",
      "It equals 1\n"
     ]
    }
   ],
   "source": [
    "TestValue(1)"
   ]
  },
  {
   "cell_type": "code",
   "execution_count": 40,
   "metadata": {},
   "outputs": [
    {
     "name": "stdout",
     "output_type": "stream",
     "text": [
      "Value equals 5!\n"
     ]
    }
   ],
   "source": [
    "TestValue(5)"
   ]
  },
  {
   "cell_type": "code",
   "execution_count": 41,
   "metadata": {},
   "outputs": [
    {
     "name": "stdout",
     "output_type": "stream",
     "text": [
      "Value equals 6!\n"
     ]
    }
   ],
   "source": [
    "TestValue(6)"
   ]
  },
  {
   "cell_type": "code",
   "execution_count": 42,
   "metadata": {},
   "outputs": [],
   "source": [
    "def SecretNumber():\n",
    "    One = int(input(\"Type a number between 1 and 10: \"))\n",
    "    Two = int(input(\"Type a number between 1 and 10: \"))\n",
    "    if (One >= 1) and (One <= 10):\n",
    "        if (Two >= 1) and (Two <= 10):\n",
    "            print('Your secret number is: ' + str(One * Two))\n",
    "        else:\n",
    "             print(\"Incorrect second value!\")\n",
    "    else:\n",
    "         print(\"Incorrect first value!\")"
   ]
  },
  {
   "cell_type": "code",
   "execution_count": 45,
   "metadata": {},
   "outputs": [
    {
     "name": "stdout",
     "output_type": "stream",
     "text": [
      "Type a number between 1 and 10: 10\n",
      "Type a number between 1 and 10: 10\n",
      "Your secret number is: 100\n"
     ]
    }
   ],
   "source": [
    "SecretNumber()"
   ]
  },
  {
   "cell_type": "code",
   "execution_count": 46,
   "metadata": {},
   "outputs": [],
   "source": [
    "def DisplayMulti(*VarArgs):\n",
    "    for Arg in VarArgs:\n",
    "        if Arg.upper() == 'CONT':\n",
    "            continue\n",
    "            print('Continue Argument: ' + Arg)\n",
    "        elif Arg.upper() == 'BREAK':\n",
    "            break\n",
    "            print('Break Argument: ' + Arg)\n",
    "        print('Good Argument: ' + Arg)"
   ]
  },
  {
   "cell_type": "code",
   "execution_count": 47,
   "metadata": {},
   "outputs": [
    {
     "name": "stdout",
     "output_type": "stream",
     "text": [
      "Good Argument: Hello\n",
      "Good Argument: Goodbye\n",
      "Good Argument: First\n",
      "Good Argument: Last\n"
     ]
    }
   ],
   "source": [
    "DisplayMulti('Hello', 'Goodbye', 'First', 'Last' )"
   ]
  },
  {
   "cell_type": "code",
   "execution_count": 49,
   "metadata": {},
   "outputs": [
    {
     "name": "stdout",
     "output_type": "stream",
     "text": [
      "Good Argument: Hello\n",
      "Good Argument: Goodbye\n"
     ]
    }
   ],
   "source": [
    "DisplayMulti('Hello', 'Cont', 'Goodbye', 'Break', 'Last')"
   ]
  },
  {
   "cell_type": "code",
   "execution_count": 51,
   "metadata": {},
   "outputs": [],
   "source": [
    "def SecretNumber():\n",
    "    GotIt = False\n",
    "    while GotIt == False:\n",
    "        One = int(input(\"Type a number between 1 and 10: \"))\n",
    "        Two = int(input(\"Type a number between 1 and 10: \"))\n",
    "        if (One >= 1) and (One <= 10):\n",
    "            if (Two >= 1) and (Two <= 10):\n",
    "                print('Secret number is: ' + str(One * Two))\n",
    "                GotIt = True\n",
    "                continue\n",
    "            else:\n",
    "                 print(\"Incorrect second value!\")\n",
    "        else:\n",
    "             print(\"Incorrect first value!\")\n",
    "        print(\"Try again!\")"
   ]
  },
  {
   "cell_type": "code",
   "execution_count": 52,
   "metadata": {},
   "outputs": [
    {
     "name": "stdout",
     "output_type": "stream",
     "text": [
      "Type a number between 1 and 10: 20\n",
      "Type a number between 1 and 10: 10\n",
      "Incorrect first value!\n",
      "Try again!\n",
      "Type a number between 1 and 10: 10\n",
      "Type a number between 1 and 10: 20\n",
      "Incorrect second value!\n",
      "Try again!\n",
      "Type a number between 1 and 10: 10\n",
      "Type a number between 1 and 10: 10\n",
      "Secret number is: 100\n"
     ]
    }
   ],
   "source": [
    "SecretNumber()"
   ]
  },
  {
   "cell_type": "code",
   "execution_count": 54,
   "metadata": {},
   "outputs": [
    {
     "data": {
      "text/plain": [
       "[0, 1, 2, 3, 4, 5, 6, 7]"
      ]
     },
     "execution_count": 54,
     "metadata": {},
     "output_type": "execute_result"
    }
   ],
   "source": [
    "ListA = [0, 1, 2, 3]\n",
    "ListB = [4, 5, 6, 7]\n",
    "ListA.extend(ListB)\n",
    "ListA"
   ]
  },
  {
   "cell_type": "code",
   "execution_count": 55,
   "metadata": {},
   "outputs": [
    {
     "data": {
      "text/plain": [
       "[0, 1, 2, 3, 4, 5, 6, 7, -5]"
      ]
     },
     "execution_count": 55,
     "metadata": {},
     "output_type": "execute_result"
    }
   ],
   "source": [
    "ListA.append(-5)\n",
    "ListA"
   ]
  },
  {
   "cell_type": "code",
   "execution_count": 56,
   "metadata": {},
   "outputs": [
    {
     "data": {
      "text/plain": [
       "[0, 1, 2, 3, 4, 5, 6, 7]"
      ]
     },
     "execution_count": 56,
     "metadata": {},
     "output_type": "execute_result"
    }
   ],
   "source": [
    "ListA.remove(-5)\n",
    "ListA"
   ]
  },
  {
   "cell_type": "code",
   "execution_count": 58,
   "metadata": {},
   "outputs": [
    {
     "data": {
      "text/plain": [
       "[0, 1, 2, 3, 4, 5, 6, 7, 4, 5, 6, 7]"
      ]
     },
     "execution_count": 58,
     "metadata": {},
     "output_type": "execute_result"
    }
   ],
   "source": [
    "ListX = ListA + ListB\n",
    "ListX"
   ]
  },
  {
   "cell_type": "code",
   "execution_count": 59,
   "metadata": {},
   "outputs": [],
   "source": [
    "MyTuple = (1, 2, 3, (4, 5, 6, (7, 8, 9)))"
   ]
  },
  {
   "cell_type": "code",
   "execution_count": 64,
   "metadata": {},
   "outputs": [
    {
     "ename": "SyntaxError",
     "evalue": "Missing parentheses in call to 'print'. Did you mean print(Value1)? (<ipython-input-64-12f4504dd9f5>, line 3)",
     "output_type": "error",
     "traceback": [
      "\u001b[1;36m  File \u001b[1;32m\"<ipython-input-64-12f4504dd9f5>\"\u001b[1;36m, line \u001b[1;32m3\u001b[0m\n\u001b[1;33m    print Value1\u001b[0m\n\u001b[1;37m               ^\u001b[0m\n\u001b[1;31mSyntaxError\u001b[0m\u001b[1;31m:\u001b[0m Missing parentheses in call to 'print'. Did you mean print(Value1)?\n"
     ]
    }
   ],
   "source": [
    "for Value1 in MyTuple:\n",
    "    if type(Value1) == int:\n",
    "        print Value1\n",
    "    else:\n",
    "        for Value2 in Value1:\n",
    "            if type(Value2) == int:\n",
    "                print \"\\t\", Value2\n",
    "            else:\n",
    "                for Value3 in Value2:\n",
    "                    print \"\\t\\t\", Value3"
   ]
  },
  {
   "cell_type": "code",
   "execution_count": 65,
   "metadata": {},
   "outputs": [],
   "source": [
    "ListA= ['Orange', 'Yellow', 'Green', 'Brown']\n",
    "ListB= [1, 2, 3, 4]"
   ]
  },
  {
   "cell_type": "code",
   "execution_count": 66,
   "metadata": {},
   "outputs": [
    {
     "data": {
      "text/plain": [
       "[2, 3]"
      ]
     },
     "execution_count": 66,
     "metadata": {},
     "output_type": "execute_result"
    }
   ],
   "source": [
    "ListB[1:3]"
   ]
  },
  {
   "cell_type": "code",
   "execution_count": 68,
   "metadata": {},
   "outputs": [
    {
     "name": "stdout",
     "output_type": "stream",
     "text": [
      "2\n",
      "3\n"
     ]
    }
   ],
   "source": [
    "for Value in ListB[1:3]:\n",
    "    print (Value)"
   ]
  },
  {
   "cell_type": "code",
   "execution_count": 70,
   "metadata": {},
   "outputs": [
    {
     "name": "stdout",
     "output_type": "stream",
     "text": [
      "Orange \t 1\n",
      "Yellow \t 2\n",
      "Green \t 3\n",
      "Brown \t 4\n"
     ]
    }
   ],
   "source": [
    "for Value1, Value2 in zip(ListA, ListB):\n",
    "     print (Value1, '\\t', Value2)"
   ]
  },
  {
   "cell_type": "code",
   "execution_count": 73,
   "metadata": {},
   "outputs": [],
   "source": [
    "MyDict = {'Orange':1, 'Blue':2, 'Pink':3}"
   ]
  },
  {
   "cell_type": "code",
   "execution_count": 75,
   "metadata": {},
   "outputs": [
    {
     "data": {
      "text/plain": [
       "3"
      ]
     },
     "execution_count": 75,
     "metadata": {},
     "output_type": "execute_result"
    }
   ],
   "source": [
    "MyDict['Pink']"
   ]
  },
  {
   "cell_type": "code",
   "execution_count": 3,
   "metadata": {},
   "outputs": [],
   "source": [
    "import pandas as pd"
   ]
  },
  {
   "cell_type": "code",
   "execution_count": 15,
   "metadata": {},
   "outputs": [
    {
     "name": "stdout",
     "output_type": "stream",
     "text": [
      "Colors.txt content:\n",
      "Color\tValue\n",
      "Red\t1\n",
      "Orange\t2\n",
      "Yellow\t3\n",
      "Green\t4\n",
      "Blue\t5\n",
      "Purple\t6\n",
      "Black\t7\n",
      "White\t8\n"
     ]
    }
   ],
   "source": [
    "with open(\"Colors.txt\", 'r') as open_file:\n",
    "     print ('Colors.txt content:\\n' + open_file.read())"
   ]
  },
  {
   "cell_type": "code",
   "execution_count": 18,
   "metadata": {},
   "outputs": [
    {
     "name": "stdout",
     "output_type": "stream",
     "text": [
      "Reading Data: Color\tValue\n",
      "\n",
      "Reading Data: Red\t1\n",
      "\n",
      "Reading Data: Orange\t2\n",
      "\n",
      "Reading Data: Yellow\t3\n",
      "\n",
      "Reading Data: Green\t4\n",
      "\n",
      "Reading Data: Blue\t5\n",
      "\n",
      "Reading Data: Purple\t6\n",
      "\n",
      "Reading Data: Black\t7\n",
      "\n",
      "Reading Data: White\t8\n"
     ]
    }
   ],
   "source": [
    "with open(\"Colors.txt\", 'r') as open_file:\n",
    "    for observation in open_file:\n",
    "        print ('Reading Data: ' + observation)"
   ]
  },
  {
   "cell_type": "code",
   "execution_count": 23,
   "metadata": {},
   "outputs": [
    {
     "name": "stdout",
     "output_type": "stream",
     "text": [
      "Reading Line: 0 Content: Color\tValue\n",
      "\n",
      "Reading Line: 2 Content: Orange\t2\n",
      "\n",
      "Reading Line: 4 Content: Green\t4\n",
      "\n",
      "Reading Line: 6 Content: Purple\t6\n",
      "\n",
      "Reading Line: 8 Content: White\t8\n"
     ]
    }
   ],
   "source": [
    "n = 2\n",
    "with open(\"Colors.txt\", 'r') as open_file:\n",
    "    for j, observation in enumerate(open_file):\n",
    "        if j % n==0:\n",
    "            print('Reading Line: ' + str(j) +\n",
    "            ' Content: ' + observation)"
   ]
  },
  {
   "cell_type": "code",
   "execution_count": 26,
   "metadata": {},
   "outputs": [
    {
     "name": "stdout",
     "output_type": "stream",
     "text": [
      "Reading Line: 0 Content: Color\tValue\n",
      "\n",
      "Reading Line: 1 Content: Red\t1\n",
      "\n",
      "Reading Line: 6 Content: Purple\t6\n",
      "\n"
     ]
    }
   ],
   "source": [
    "from random import random\n",
    "sample_size = 0.25\n",
    "with open(\"Colors.txt\", 'r') as open_file:\n",
    "     for j, observation in enumerate(open_file):\n",
    "        if random()<=sample_size:\n",
    "             print('Reading Line: ' + str(j) +\n",
    "             ' Content: ' + observation)"
   ]
  },
  {
   "cell_type": "code",
   "execution_count": 31,
   "metadata": {},
   "outputs": [
    {
     "name": "stdout",
     "output_type": "stream",
     "text": [
      "  Color\\tValue\n",
      "0       Red\\t1\n",
      "1    Orange\\t2\n",
      "2    Yellow\\t3\n",
      "3     Green\\t4\n",
      "4      Blue\\t5\n",
      "5    Purple\\t6\n",
      "6     Black\\t7\n",
      "7     White\\t8\n"
     ]
    }
   ],
   "source": [
    "import pandas as pd\n",
    "color_table = pd.read_csv(\"Colors.txt\")\n",
    "print (color_table)"
   ]
  },
  {
   "cell_type": "code",
   "execution_count": 34,
   "metadata": {},
   "outputs": [
    {
     "name": "stdout",
     "output_type": "stream",
     "text": [
      "[[29.        ]\n",
      " [ 0.91670001]\n",
      " [ 2.        ]\n",
      " ...\n",
      " [26.5       ]\n",
      " [27.        ]\n",
      " [29.        ]]\n"
     ]
    }
   ],
   "source": [
    "titanic = pd.io.parsers.read_csv(\"Titanic.csv\")\n",
    "X = titanic[['age']].values\n",
    "print (X)"
   ]
  },
  {
   "cell_type": "code",
   "execution_count": 36,
   "metadata": {},
   "outputs": [
    {
     "name": "stdout",
     "output_type": "stream",
     "text": [
      "    Angle (Degrees)      Sine    Cosine    Tangent\n",
      "0        138.550574  0.661959 -0.749540  -0.883153\n",
      "1        305.535745 -0.813753  0.581211  -1.400100\n",
      "2        280.518695 -0.983195  0.182556  -5.385709\n",
      "3        216.363795 -0.592910 -0.805269   0.736289\n",
      "4         36.389247  0.593268  0.805005   0.736974\n",
      "5         31.474311  0.522116  0.852874   0.612184\n",
      "6        120.121669  0.864962 -0.501838  -1.723588\n",
      "7        293.947055 -0.913921  0.405892  -2.251634\n",
      "8        179.882632  0.002048 -0.999998  -0.002048\n",
      "9        120.927562  0.857818 -0.513954  -1.669056\n",
      "10        71.349485  0.947487  0.319795   2.962796\n",
      "11       241.971082 -0.882711 -0.469917   1.878439\n",
      "12       297.208817 -0.889346  0.457235  -1.945053\n",
      "13       142.004551  0.615599 -0.788060  -0.781158\n",
      "14       173.770696  0.108508 -0.994096  -0.109152\n",
      "15       229.232002 -0.757360 -0.652998   1.159820\n",
      "16        67.926976  0.926706  0.375788   2.466033\n",
      "17       261.866575 -0.989941 -0.141479   6.997102\n",
      "18        59.185450  0.858830  0.512261   1.676547\n",
      "19        98.029275  0.990197 -0.139679  -7.089086\n",
      "20         9.336088  0.162225  0.986754   0.164403\n",
      "21        90.746371  0.999915 -0.013026 -76.761483\n",
      "22       217.798087 -0.612881 -0.790175   0.775626\n",
      "23        58.616049  0.853697  0.520771   1.639295\n",
      "24       197.196367 -0.295647 -0.955297   0.309482\n",
      "25       331.194892 -0.481832  0.876264  -0.549871\n",
      "26         6.509875  0.113374  0.993552   0.114110\n",
      "27       266.390707 -0.998017 -0.062952  15.853513\n",
      "28       230.323819 -0.769665 -0.638448   1.205525\n",
      "29       314.224257 -0.716615  0.697469  -1.027452\n",
      "..              ...       ...       ...        ...\n",
      "42       324.080564 -0.586647  0.809843  -0.724396\n",
      "43       140.893727  0.630761 -0.775977  -0.812860\n",
      "44       128.226889  0.785567 -0.618777  -1.269547\n",
      "45        82.770054  0.992049  0.125852   7.882680\n",
      "46       303.112455 -0.837600  0.546284  -1.533268\n",
      "47       164.824273  0.261780 -0.965127  -0.271239\n",
      "48       218.829827 -0.627009 -0.779012   0.804878\n",
      "49        28.649593  0.479452  0.877568   0.546341\n",
      "50       349.336296 -0.185044  0.982730  -0.188296\n",
      "51        84.889713  0.996025  0.089073  11.182105\n",
      "52       197.935862 -0.307952 -0.951402   0.323683\n",
      "53       303.049380 -0.838201  0.545362  -1.536963\n",
      "54       183.737235 -0.065181 -0.997873   0.065320\n",
      "55       346.153919 -0.239314  0.970942  -0.246477\n",
      "56       218.822745 -0.626913 -0.779089   0.804674\n",
      "57       243.969070 -0.898557 -0.438856   2.047498\n",
      "58       115.600771  0.901827 -0.432098  -2.087089\n",
      "59       125.906606  0.809974 -0.586466  -1.381111\n",
      "60       200.094363 -0.343567 -0.939128   0.365836\n",
      "61       337.860807 -0.376858  0.926271  -0.406855\n",
      "62       168.176975  0.204889 -0.978785  -0.209330\n",
      "63       305.708155 -0.812000  0.583657  -1.391229\n",
      "64       162.656078  0.298107 -0.954533  -0.312306\n",
      "65       219.007899 -0.629428 -0.777059   0.810012\n",
      "66       222.830465 -0.679831 -0.733368   0.926998\n",
      "67       324.199562 -0.584964  0.811059  -0.721234\n",
      "68       187.948172 -0.138277 -0.990394   0.139619\n",
      "69       270.678249 -0.999930  0.011837 -84.472139\n",
      "70       270.779159 -0.999908  0.013598 -73.530885\n",
      "71       200.213513 -0.345520 -0.938412   0.368196\n",
      "\n",
      "[72 rows x 4 columns]\n"
     ]
    }
   ],
   "source": [
    "import pandas as pd\n",
    "xls = pd.ExcelFile(\"Values.xls\")\n",
    "trig_values = xls.parse('Sheet1', index_col=None,\n",
    "                         na_values=['NA'])\n",
    "print (trig_values)"
   ]
  },
  {
   "cell_type": "code",
   "execution_count": 41,
   "metadata": {},
   "outputs": [
    {
     "name": "stdout",
     "output_type": "stream",
     "text": [
      "  Number  String Boolean\n",
      "0      1   First    True\n",
      "1      2  Second   False\n",
      "2      3   Third    True\n",
      "3      4  Fourth   False\n"
     ]
    }
   ],
   "source": [
    "from lxml import objectify\n",
    "import pandas as pd\n",
    "xml = objectify.parse(open('XMLData.xml'))\n",
    "root = xml.getroot()\n",
    "df = pd.DataFrame(columns=('Number', 'String', 'Boolean'))\n",
    "for i in range(0,4):\n",
    "    obj = root.getchildren()[i].getchildren()\n",
    "    row= dict(zip(['Number', 'String', 'Boolean'], \n",
    "                     [obj[0].text, obj[1].text, obj[2].text]))\n",
    "    row_s = pd.Series(row)\n",
    "    row_s.name = i\n",
    "    df = df.append(row_s)\n",
    "\n",
    "print (df)"
   ]
  },
  {
   "cell_type": "code",
   "execution_count": 44,
   "metadata": {},
   "outputs": [],
   "source": [
    "data = pd.read_csv('Blackwell_Hist_Sample.csv')"
   ]
  },
  {
   "cell_type": "code",
   "execution_count": 45,
   "metadata": {},
   "outputs": [
    {
     "data": {
      "text/html": [
       "<div>\n",
       "<style scoped>\n",
       "    .dataframe tbody tr th:only-of-type {\n",
       "        vertical-align: middle;\n",
       "    }\n",
       "\n",
       "    .dataframe tbody tr th {\n",
       "        vertical-align: top;\n",
       "    }\n",
       "\n",
       "    .dataframe thead th {\n",
       "        text-align: right;\n",
       "    }\n",
       "</style>\n",
       "<table border=\"1\" class=\"dataframe\">\n",
       "  <thead>\n",
       "    <tr style=\"text-align: right;\">\n",
       "      <th></th>\n",
       "      <th>in.store</th>\n",
       "      <th>age</th>\n",
       "      <th>items</th>\n",
       "      <th>amount</th>\n",
       "      <th>region</th>\n",
       "    </tr>\n",
       "  </thead>\n",
       "  <tbody>\n",
       "    <tr>\n",
       "      <th>0</th>\n",
       "      <td>0</td>\n",
       "      <td>60</td>\n",
       "      <td>8</td>\n",
       "      <td>2103.80</td>\n",
       "      <td>3</td>\n",
       "    </tr>\n",
       "    <tr>\n",
       "      <th>1</th>\n",
       "      <td>1</td>\n",
       "      <td>58</td>\n",
       "      <td>4</td>\n",
       "      <td>968.38</td>\n",
       "      <td>3</td>\n",
       "    </tr>\n",
       "    <tr>\n",
       "      <th>2</th>\n",
       "      <td>0</td>\n",
       "      <td>51</td>\n",
       "      <td>7</td>\n",
       "      <td>143.59</td>\n",
       "      <td>2</td>\n",
       "    </tr>\n",
       "    <tr>\n",
       "      <th>3</th>\n",
       "      <td>1</td>\n",
       "      <td>40</td>\n",
       "      <td>7</td>\n",
       "      <td>863.82</td>\n",
       "      <td>3</td>\n",
       "    </tr>\n",
       "    <tr>\n",
       "      <th>4</th>\n",
       "      <td>0</td>\n",
       "      <td>41</td>\n",
       "      <td>4</td>\n",
       "      <td>915.21</td>\n",
       "      <td>1</td>\n",
       "    </tr>\n",
       "    <tr>\n",
       "      <th>5</th>\n",
       "      <td>0</td>\n",
       "      <td>79</td>\n",
       "      <td>6</td>\n",
       "      <td>426.17</td>\n",
       "      <td>2</td>\n",
       "    </tr>\n",
       "    <tr>\n",
       "      <th>6</th>\n",
       "      <td>0</td>\n",
       "      <td>79</td>\n",
       "      <td>1</td>\n",
       "      <td>471.43</td>\n",
       "      <td>2</td>\n",
       "    </tr>\n",
       "    <tr>\n",
       "      <th>7</th>\n",
       "      <td>0</td>\n",
       "      <td>31</td>\n",
       "      <td>3</td>\n",
       "      <td>115.52</td>\n",
       "      <td>2</td>\n",
       "    </tr>\n",
       "    <tr>\n",
       "      <th>8</th>\n",
       "      <td>0</td>\n",
       "      <td>29</td>\n",
       "      <td>6</td>\n",
       "      <td>129.25</td>\n",
       "      <td>4</td>\n",
       "    </tr>\n",
       "    <tr>\n",
       "      <th>9</th>\n",
       "      <td>1</td>\n",
       "      <td>25</td>\n",
       "      <td>6</td>\n",
       "      <td>1025.90</td>\n",
       "      <td>1</td>\n",
       "    </tr>\n",
       "    <tr>\n",
       "      <th>10</th>\n",
       "      <td>0</td>\n",
       "      <td>57</td>\n",
       "      <td>2</td>\n",
       "      <td>1384.70</td>\n",
       "      <td>3</td>\n",
       "    </tr>\n",
       "    <tr>\n",
       "      <th>11</th>\n",
       "      <td>0</td>\n",
       "      <td>55</td>\n",
       "      <td>6</td>\n",
       "      <td>352.82</td>\n",
       "      <td>2</td>\n",
       "    </tr>\n",
       "    <tr>\n",
       "      <th>12</th>\n",
       "      <td>0</td>\n",
       "      <td>58</td>\n",
       "      <td>1</td>\n",
       "      <td>450.41</td>\n",
       "      <td>2</td>\n",
       "    </tr>\n",
       "    <tr>\n",
       "      <th>13</th>\n",
       "      <td>0</td>\n",
       "      <td>73</td>\n",
       "      <td>5</td>\n",
       "      <td>416.93</td>\n",
       "      <td>2</td>\n",
       "    </tr>\n",
       "    <tr>\n",
       "      <th>14</th>\n",
       "      <td>0</td>\n",
       "      <td>60</td>\n",
       "      <td>3</td>\n",
       "      <td>638.38</td>\n",
       "      <td>3</td>\n",
       "    </tr>\n",
       "    <tr>\n",
       "      <th>15</th>\n",
       "      <td>1</td>\n",
       "      <td>35</td>\n",
       "      <td>4</td>\n",
       "      <td>1740.10</td>\n",
       "      <td>4</td>\n",
       "    </tr>\n",
       "    <tr>\n",
       "      <th>16</th>\n",
       "      <td>1</td>\n",
       "      <td>32</td>\n",
       "      <td>4</td>\n",
       "      <td>1308.30</td>\n",
       "      <td>1</td>\n",
       "    </tr>\n",
       "    <tr>\n",
       "      <th>17</th>\n",
       "      <td>1</td>\n",
       "      <td>50</td>\n",
       "      <td>4</td>\n",
       "      <td>749.37</td>\n",
       "      <td>3</td>\n",
       "    </tr>\n",
       "    <tr>\n",
       "      <th>18</th>\n",
       "      <td>1</td>\n",
       "      <td>25</td>\n",
       "      <td>4</td>\n",
       "      <td>1854.80</td>\n",
       "      <td>4</td>\n",
       "    </tr>\n",
       "    <tr>\n",
       "      <th>19</th>\n",
       "      <td>1</td>\n",
       "      <td>48</td>\n",
       "      <td>8</td>\n",
       "      <td>707.09</td>\n",
       "      <td>1</td>\n",
       "    </tr>\n",
       "    <tr>\n",
       "      <th>20</th>\n",
       "      <td>1</td>\n",
       "      <td>35</td>\n",
       "      <td>1</td>\n",
       "      <td>965.75</td>\n",
       "      <td>4</td>\n",
       "    </tr>\n",
       "    <tr>\n",
       "      <th>21</th>\n",
       "      <td>0</td>\n",
       "      <td>56</td>\n",
       "      <td>5</td>\n",
       "      <td>15.86</td>\n",
       "      <td>2</td>\n",
       "    </tr>\n",
       "    <tr>\n",
       "      <th>22</th>\n",
       "      <td>0</td>\n",
       "      <td>50</td>\n",
       "      <td>8</td>\n",
       "      <td>152.97</td>\n",
       "      <td>2</td>\n",
       "    </tr>\n",
       "    <tr>\n",
       "      <th>23</th>\n",
       "      <td>0</td>\n",
       "      <td>71</td>\n",
       "      <td>6</td>\n",
       "      <td>74.10</td>\n",
       "      <td>2</td>\n",
       "    </tr>\n",
       "    <tr>\n",
       "      <th>24</th>\n",
       "      <td>1</td>\n",
       "      <td>59</td>\n",
       "      <td>1</td>\n",
       "      <td>344.11</td>\n",
       "      <td>3</td>\n",
       "    </tr>\n",
       "    <tr>\n",
       "      <th>25</th>\n",
       "      <td>1</td>\n",
       "      <td>72</td>\n",
       "      <td>1</td>\n",
       "      <td>919.24</td>\n",
       "      <td>1</td>\n",
       "    </tr>\n",
       "    <tr>\n",
       "      <th>26</th>\n",
       "      <td>0</td>\n",
       "      <td>62</td>\n",
       "      <td>5</td>\n",
       "      <td>381.25</td>\n",
       "      <td>2</td>\n",
       "    </tr>\n",
       "    <tr>\n",
       "      <th>27</th>\n",
       "      <td>1</td>\n",
       "      <td>37</td>\n",
       "      <td>1</td>\n",
       "      <td>361.42</td>\n",
       "      <td>4</td>\n",
       "    </tr>\n",
       "    <tr>\n",
       "      <th>28</th>\n",
       "      <td>0</td>\n",
       "      <td>25</td>\n",
       "      <td>2</td>\n",
       "      <td>569.47</td>\n",
       "      <td>4</td>\n",
       "    </tr>\n",
       "    <tr>\n",
       "      <th>29</th>\n",
       "      <td>1</td>\n",
       "      <td>47</td>\n",
       "      <td>4</td>\n",
       "      <td>480.06</td>\n",
       "      <td>3</td>\n",
       "    </tr>\n",
       "    <tr>\n",
       "      <th>...</th>\n",
       "      <td>...</td>\n",
       "      <td>...</td>\n",
       "      <td>...</td>\n",
       "      <td>...</td>\n",
       "      <td>...</td>\n",
       "    </tr>\n",
       "    <tr>\n",
       "      <th>9970</th>\n",
       "      <td>0</td>\n",
       "      <td>60</td>\n",
       "      <td>4</td>\n",
       "      <td>423.93</td>\n",
       "      <td>2</td>\n",
       "    </tr>\n",
       "    <tr>\n",
       "      <th>9971</th>\n",
       "      <td>0</td>\n",
       "      <td>82</td>\n",
       "      <td>2</td>\n",
       "      <td>459.68</td>\n",
       "      <td>2</td>\n",
       "    </tr>\n",
       "    <tr>\n",
       "      <th>9972</th>\n",
       "      <td>1</td>\n",
       "      <td>48</td>\n",
       "      <td>7</td>\n",
       "      <td>105.98</td>\n",
       "      <td>3</td>\n",
       "    </tr>\n",
       "    <tr>\n",
       "      <th>9973</th>\n",
       "      <td>0</td>\n",
       "      <td>76</td>\n",
       "      <td>5</td>\n",
       "      <td>389.83</td>\n",
       "      <td>2</td>\n",
       "    </tr>\n",
       "    <tr>\n",
       "      <th>9974</th>\n",
       "      <td>0</td>\n",
       "      <td>78</td>\n",
       "      <td>8</td>\n",
       "      <td>196.08</td>\n",
       "      <td>2</td>\n",
       "    </tr>\n",
       "    <tr>\n",
       "      <th>9975</th>\n",
       "      <td>0</td>\n",
       "      <td>75</td>\n",
       "      <td>5</td>\n",
       "      <td>222.77</td>\n",
       "      <td>2</td>\n",
       "    </tr>\n",
       "    <tr>\n",
       "      <th>9976</th>\n",
       "      <td>0</td>\n",
       "      <td>43</td>\n",
       "      <td>3</td>\n",
       "      <td>441.19</td>\n",
       "      <td>4</td>\n",
       "    </tr>\n",
       "    <tr>\n",
       "      <th>9977</th>\n",
       "      <td>1</td>\n",
       "      <td>20</td>\n",
       "      <td>7</td>\n",
       "      <td>1435.00</td>\n",
       "      <td>4</td>\n",
       "    </tr>\n",
       "    <tr>\n",
       "      <th>9978</th>\n",
       "      <td>0</td>\n",
       "      <td>28</td>\n",
       "      <td>3</td>\n",
       "      <td>2287.60</td>\n",
       "      <td>3</td>\n",
       "    </tr>\n",
       "    <tr>\n",
       "      <th>9979</th>\n",
       "      <td>1</td>\n",
       "      <td>48</td>\n",
       "      <td>4</td>\n",
       "      <td>512.16</td>\n",
       "      <td>3</td>\n",
       "    </tr>\n",
       "    <tr>\n",
       "      <th>9980</th>\n",
       "      <td>0</td>\n",
       "      <td>47</td>\n",
       "      <td>2</td>\n",
       "      <td>319.93</td>\n",
       "      <td>2</td>\n",
       "    </tr>\n",
       "    <tr>\n",
       "      <th>9981</th>\n",
       "      <td>0</td>\n",
       "      <td>78</td>\n",
       "      <td>3</td>\n",
       "      <td>398.69</td>\n",
       "      <td>2</td>\n",
       "    </tr>\n",
       "    <tr>\n",
       "      <th>9982</th>\n",
       "      <td>0</td>\n",
       "      <td>60</td>\n",
       "      <td>2</td>\n",
       "      <td>1210.90</td>\n",
       "      <td>4</td>\n",
       "    </tr>\n",
       "    <tr>\n",
       "      <th>9983</th>\n",
       "      <td>0</td>\n",
       "      <td>54</td>\n",
       "      <td>7</td>\n",
       "      <td>371.82</td>\n",
       "      <td>1</td>\n",
       "    </tr>\n",
       "    <tr>\n",
       "      <th>9984</th>\n",
       "      <td>1</td>\n",
       "      <td>51</td>\n",
       "      <td>3</td>\n",
       "      <td>890.04</td>\n",
       "      <td>4</td>\n",
       "    </tr>\n",
       "    <tr>\n",
       "      <th>9985</th>\n",
       "      <td>0</td>\n",
       "      <td>54</td>\n",
       "      <td>6</td>\n",
       "      <td>520.71</td>\n",
       "      <td>1</td>\n",
       "    </tr>\n",
       "    <tr>\n",
       "      <th>9986</th>\n",
       "      <td>0</td>\n",
       "      <td>36</td>\n",
       "      <td>2</td>\n",
       "      <td>2704.50</td>\n",
       "      <td>4</td>\n",
       "    </tr>\n",
       "    <tr>\n",
       "      <th>9987</th>\n",
       "      <td>0</td>\n",
       "      <td>27</td>\n",
       "      <td>4</td>\n",
       "      <td>536.96</td>\n",
       "      <td>1</td>\n",
       "    </tr>\n",
       "    <tr>\n",
       "      <th>9988</th>\n",
       "      <td>1</td>\n",
       "      <td>53</td>\n",
       "      <td>3</td>\n",
       "      <td>1649.20</td>\n",
       "      <td>4</td>\n",
       "    </tr>\n",
       "    <tr>\n",
       "      <th>9989</th>\n",
       "      <td>1</td>\n",
       "      <td>52</td>\n",
       "      <td>5</td>\n",
       "      <td>190.29</td>\n",
       "      <td>3</td>\n",
       "    </tr>\n",
       "    <tr>\n",
       "      <th>9990</th>\n",
       "      <td>1</td>\n",
       "      <td>42</td>\n",
       "      <td>6</td>\n",
       "      <td>1613.10</td>\n",
       "      <td>4</td>\n",
       "    </tr>\n",
       "    <tr>\n",
       "      <th>9991</th>\n",
       "      <td>0</td>\n",
       "      <td>41</td>\n",
       "      <td>7</td>\n",
       "      <td>275.35</td>\n",
       "      <td>2</td>\n",
       "    </tr>\n",
       "    <tr>\n",
       "      <th>9992</th>\n",
       "      <td>0</td>\n",
       "      <td>72</td>\n",
       "      <td>3</td>\n",
       "      <td>34.31</td>\n",
       "      <td>2</td>\n",
       "    </tr>\n",
       "    <tr>\n",
       "      <th>9993</th>\n",
       "      <td>0</td>\n",
       "      <td>67</td>\n",
       "      <td>6</td>\n",
       "      <td>315.44</td>\n",
       "      <td>2</td>\n",
       "    </tr>\n",
       "    <tr>\n",
       "      <th>9994</th>\n",
       "      <td>0</td>\n",
       "      <td>78</td>\n",
       "      <td>3</td>\n",
       "      <td>88.57</td>\n",
       "      <td>2</td>\n",
       "    </tr>\n",
       "    <tr>\n",
       "      <th>9995</th>\n",
       "      <td>0</td>\n",
       "      <td>57</td>\n",
       "      <td>4</td>\n",
       "      <td>1832.90</td>\n",
       "      <td>4</td>\n",
       "    </tr>\n",
       "    <tr>\n",
       "      <th>9996</th>\n",
       "      <td>1</td>\n",
       "      <td>33</td>\n",
       "      <td>5</td>\n",
       "      <td>171.69</td>\n",
       "      <td>4</td>\n",
       "    </tr>\n",
       "    <tr>\n",
       "      <th>9997</th>\n",
       "      <td>0</td>\n",
       "      <td>20</td>\n",
       "      <td>3</td>\n",
       "      <td>398.67</td>\n",
       "      <td>4</td>\n",
       "    </tr>\n",
       "    <tr>\n",
       "      <th>9998</th>\n",
       "      <td>0</td>\n",
       "      <td>71</td>\n",
       "      <td>6</td>\n",
       "      <td>426.14</td>\n",
       "      <td>2</td>\n",
       "    </tr>\n",
       "    <tr>\n",
       "      <th>9999</th>\n",
       "      <td>1</td>\n",
       "      <td>25</td>\n",
       "      <td>2</td>\n",
       "      <td>1437.60</td>\n",
       "      <td>1</td>\n",
       "    </tr>\n",
       "  </tbody>\n",
       "</table>\n",
       "<p>10000 rows × 5 columns</p>\n",
       "</div>"
      ],
      "text/plain": [
       "      in.store  age  items   amount  region\n",
       "0            0   60      8  2103.80       3\n",
       "1            1   58      4   968.38       3\n",
       "2            0   51      7   143.59       2\n",
       "3            1   40      7   863.82       3\n",
       "4            0   41      4   915.21       1\n",
       "5            0   79      6   426.17       2\n",
       "6            0   79      1   471.43       2\n",
       "7            0   31      3   115.52       2\n",
       "8            0   29      6   129.25       4\n",
       "9            1   25      6  1025.90       1\n",
       "10           0   57      2  1384.70       3\n",
       "11           0   55      6   352.82       2\n",
       "12           0   58      1   450.41       2\n",
       "13           0   73      5   416.93       2\n",
       "14           0   60      3   638.38       3\n",
       "15           1   35      4  1740.10       4\n",
       "16           1   32      4  1308.30       1\n",
       "17           1   50      4   749.37       3\n",
       "18           1   25      4  1854.80       4\n",
       "19           1   48      8   707.09       1\n",
       "20           1   35      1   965.75       4\n",
       "21           0   56      5    15.86       2\n",
       "22           0   50      8   152.97       2\n",
       "23           0   71      6    74.10       2\n",
       "24           1   59      1   344.11       3\n",
       "25           1   72      1   919.24       1\n",
       "26           0   62      5   381.25       2\n",
       "27           1   37      1   361.42       4\n",
       "28           0   25      2   569.47       4\n",
       "29           1   47      4   480.06       3\n",
       "...        ...  ...    ...      ...     ...\n",
       "9970         0   60      4   423.93       2\n",
       "9971         0   82      2   459.68       2\n",
       "9972         1   48      7   105.98       3\n",
       "9973         0   76      5   389.83       2\n",
       "9974         0   78      8   196.08       2\n",
       "9975         0   75      5   222.77       2\n",
       "9976         0   43      3   441.19       4\n",
       "9977         1   20      7  1435.00       4\n",
       "9978         0   28      3  2287.60       3\n",
       "9979         1   48      4   512.16       3\n",
       "9980         0   47      2   319.93       2\n",
       "9981         0   78      3   398.69       2\n",
       "9982         0   60      2  1210.90       4\n",
       "9983         0   54      7   371.82       1\n",
       "9984         1   51      3   890.04       4\n",
       "9985         0   54      6   520.71       1\n",
       "9986         0   36      2  2704.50       4\n",
       "9987         0   27      4   536.96       1\n",
       "9988         1   53      3  1649.20       4\n",
       "9989         1   52      5   190.29       3\n",
       "9990         1   42      6  1613.10       4\n",
       "9991         0   41      7   275.35       2\n",
       "9992         0   72      3    34.31       2\n",
       "9993         0   67      6   315.44       2\n",
       "9994         0   78      3    88.57       2\n",
       "9995         0   57      4  1832.90       4\n",
       "9996         1   33      5   171.69       4\n",
       "9997         0   20      3   398.67       4\n",
       "9998         0   71      6   426.14       2\n",
       "9999         1   25      2  1437.60       1\n",
       "\n",
       "[10000 rows x 5 columns]"
      ]
     },
     "execution_count": 45,
     "metadata": {},
     "output_type": "execute_result"
    }
   ],
   "source": [
    "data"
   ]
  },
  {
   "cell_type": "code",
   "execution_count": 46,
   "metadata": {},
   "outputs": [
    {
     "data": {
      "text/html": [
       "<div>\n",
       "<style scoped>\n",
       "    .dataframe tbody tr th:only-of-type {\n",
       "        vertical-align: middle;\n",
       "    }\n",
       "\n",
       "    .dataframe tbody tr th {\n",
       "        vertical-align: top;\n",
       "    }\n",
       "\n",
       "    .dataframe thead th {\n",
       "        text-align: right;\n",
       "    }\n",
       "</style>\n",
       "<table border=\"1\" class=\"dataframe\">\n",
       "  <thead>\n",
       "    <tr style=\"text-align: right;\">\n",
       "      <th></th>\n",
       "      <th>in.store</th>\n",
       "      <th>age</th>\n",
       "      <th>items</th>\n",
       "      <th>amount</th>\n",
       "      <th>region</th>\n",
       "    </tr>\n",
       "  </thead>\n",
       "  <tbody>\n",
       "    <tr>\n",
       "      <th>count</th>\n",
       "      <td>10000.000000</td>\n",
       "      <td>10000.000000</td>\n",
       "      <td>10000.00000</td>\n",
       "      <td>10000.000000</td>\n",
       "      <td>10000.000000</td>\n",
       "    </tr>\n",
       "    <tr>\n",
       "      <th>mean</th>\n",
       "      <td>0.455500</td>\n",
       "      <td>45.956500</td>\n",
       "      <td>4.50390</td>\n",
       "      <td>835.000181</td>\n",
       "      <td>2.659700</td>\n",
       "    </tr>\n",
       "    <tr>\n",
       "      <th>std</th>\n",
       "      <td>0.498041</td>\n",
       "      <td>15.902261</td>\n",
       "      <td>2.06611</td>\n",
       "      <td>723.099002</td>\n",
       "      <td>1.128904</td>\n",
       "    </tr>\n",
       "    <tr>\n",
       "      <th>min</th>\n",
       "      <td>0.000000</td>\n",
       "      <td>18.000000</td>\n",
       "      <td>1.00000</td>\n",
       "      <td>5.230000</td>\n",
       "      <td>1.000000</td>\n",
       "    </tr>\n",
       "    <tr>\n",
       "      <th>25%</th>\n",
       "      <td>0.000000</td>\n",
       "      <td>33.000000</td>\n",
       "      <td>3.00000</td>\n",
       "      <td>276.752500</td>\n",
       "      <td>2.000000</td>\n",
       "    </tr>\n",
       "    <tr>\n",
       "      <th>50%</th>\n",
       "      <td>0.000000</td>\n",
       "      <td>45.000000</td>\n",
       "      <td>4.00000</td>\n",
       "      <td>570.665000</td>\n",
       "      <td>3.000000</td>\n",
       "    </tr>\n",
       "    <tr>\n",
       "      <th>75%</th>\n",
       "      <td>1.000000</td>\n",
       "      <td>57.000000</td>\n",
       "      <td>6.00000</td>\n",
       "      <td>1249.900000</td>\n",
       "      <td>4.000000</td>\n",
       "    </tr>\n",
       "    <tr>\n",
       "      <th>max</th>\n",
       "      <td>1.000000</td>\n",
       "      <td>85.000000</td>\n",
       "      <td>8.00000</td>\n",
       "      <td>2999.200000</td>\n",
       "      <td>4.000000</td>\n",
       "    </tr>\n",
       "  </tbody>\n",
       "</table>\n",
       "</div>"
      ],
      "text/plain": [
       "           in.store           age        items        amount        region\n",
       "count  10000.000000  10000.000000  10000.00000  10000.000000  10000.000000\n",
       "mean       0.455500     45.956500      4.50390    835.000181      2.659700\n",
       "std        0.498041     15.902261      2.06611    723.099002      1.128904\n",
       "min        0.000000     18.000000      1.00000      5.230000      1.000000\n",
       "25%        0.000000     33.000000      3.00000    276.752500      2.000000\n",
       "50%        0.000000     45.000000      4.00000    570.665000      3.000000\n",
       "75%        1.000000     57.000000      6.00000   1249.900000      4.000000\n",
       "max        1.000000     85.000000      8.00000   2999.200000      4.000000"
      ]
     },
     "execution_count": 46,
     "metadata": {},
     "output_type": "execute_result"
    }
   ],
   "source": [
    "data.describe()"
   ]
  },
  {
   "cell_type": "code",
   "execution_count": null,
   "metadata": {},
   "outputs": [],
   "source": []
  }
 ],
 "metadata": {
  "kernelspec": {
   "display_name": "Python 3",
   "language": "python",
   "name": "python3"
  },
  "language_info": {
   "codemirror_mode": {
    "name": "ipython",
    "version": 3
   },
   "file_extension": ".py",
   "mimetype": "text/x-python",
   "name": "python",
   "nbconvert_exporter": "python",
   "pygments_lexer": "ipython3",
   "version": "3.7.3"
  }
 },
 "nbformat": 4,
 "nbformat_minor": 2
}
